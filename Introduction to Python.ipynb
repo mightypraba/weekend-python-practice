{
 "cells": [
  {
   "cell_type": "code",
   "execution_count": 1,
   "metadata": {},
   "outputs": [
    {
     "name": "stdout",
     "output_type": "stream",
     "text": [
      "hello world|\n"
     ]
    }
   ],
   "source": [
    "print (\"hello world|\")"
   ]
  },
  {
   "cell_type": "code",
   "execution_count": 4,
   "metadata": {},
   "outputs": [
    {
     "name": "stdout",
     "output_type": "stream",
     "text": [
      "18\n"
     ]
    }
   ],
   "source": [
    "#introduction to variables\n",
    "\n",
    "x = 5\n",
    "\n",
    "y = 13\n",
    "\n",
    "z = x + y\n",
    "\n",
    "print(z)"
   ]
  },
  {
   "cell_type": "code",
   "execution_count": 7,
   "metadata": {},
   "outputs": [
    {
     "name": "stdout",
     "output_type": "stream",
     "text": [
      "praba karan\n"
     ]
    }
   ],
   "source": [
    "#data types in python\n",
    "\n",
    "#strings:\n",
    "\n",
    "name = \"praba karan\"\n",
    "\n",
    "print(name)"
   ]
  },
  {
   "cell_type": "code",
   "execution_count": 12,
   "metadata": {},
   "outputs": [
    {
     "name": "stdout",
     "output_type": "stream",
     "text": [
      "Praba Karan\n",
      "PRABA KARAN\n",
      "praba karan\n"
     ]
    }
   ],
   "source": [
    "#string functions:\n",
    "\n",
    "name = \"pRAba kARan\"\n",
    "\n",
    "print(name.title())\n",
    "\n",
    "print(name.upper())\n",
    "\n",
    "print(name.lower())"
   ]
  },
  {
   "cell_type": "code",
   "execution_count": 26,
   "metadata": {},
   "outputs": [
    {
     "name": "stdout",
     "output_type": "stream",
     "text": [
      "my full name is praba karan\n",
      "My Full Name Is Praba Karan\n",
      "MY FULL NAME IS PRABA KARAN\n"
     ]
    }
   ],
   "source": [
    "#using variable in the strings:\n",
    "\n",
    "# F-strings:(implemented in python 3.6 and above versions)\n",
    "\n",
    "first_name = \"praba\"\n",
    "\n",
    "last_name = \"karan\"\n",
    "\n",
    "full_name = f\"my full name is {first_name} {last_name}\"\n",
    "\n",
    "print(full_name)\n",
    "\n",
    "print(full_name.title())\n",
    "\n",
    "print(full_name.upper())"
   ]
  },
  {
   "cell_type": "code",
   "execution_count": 6,
   "metadata": {},
   "outputs": [
    {
     "name": "stdout",
     "output_type": "stream",
     "text": [
      "praba \n",
      " praba \n",
      "praba\n",
      "my nmae is\tpraba\n",
      "\n",
      "my nmae is\n",
      "praba\n"
     ]
    }
   ],
   "source": [
    "#adding whitespace to strings:\n",
    "\n",
    "print(\"praba \")\n",
    "\n",
    "print(\" praba \")\n",
    "\n",
    "print(\"praba\")\n",
    "\n",
    "print(\"my nmae is\\tpraba\\n\")\n",
    "\n",
    "print(\"my nmae is\\npraba\")"
   ]
  },
  {
   "cell_type": "code",
   "execution_count": 13,
   "metadata": {},
   "outputs": [
    {
     "name": "stdout",
     "output_type": "stream",
     "text": [
      "my brother's name is vishva\n",
      "my brother's name is vishva\n"
     ]
    }
   ],
   "source": [
    "#including apostrophe in between string:\n",
    "\n",
    "print(\"my brother's name is vishva\")\n",
    "\n",
    "print(\"\"\"my brother's name is vishva\"\"\")"
   ]
  },
  {
   "cell_type": "code",
   "execution_count": 15,
   "metadata": {},
   "outputs": [
    {
     "name": "stdout",
     "output_type": "stream",
     "text": [
      "praba  \n",
      "praba\n",
      "  praba\n",
      "praba\n",
      "  praba  \n",
      "praba\n"
     ]
    }
   ],
   "source": [
    "name = \"praba  \"\n",
    "print(name)\n",
    "print(name.rstrip())\n",
    "\n",
    "\n",
    "name = \"  praba\"\n",
    "print(name)\n",
    "print(name.lstrip())\n",
    "\n",
    "\n",
    "name = \"  praba  \"\n",
    "print(name)\n",
    "print(name.strip())"
   ]
  },
  {
   "cell_type": "code",
   "execution_count": null,
   "metadata": {},
   "outputs": [],
   "source": []
  },
  {
   "cell_type": "code",
   "execution_count": null,
   "metadata": {},
   "outputs": [],
   "source": []
  },
  {
   "cell_type": "code",
   "execution_count": null,
   "metadata": {},
   "outputs": [],
   "source": []
  },
  {
   "cell_type": "code",
   "execution_count": null,
   "metadata": {},
   "outputs": [],
   "source": []
  },
  {
   "cell_type": "code",
   "execution_count": null,
   "metadata": {},
   "outputs": [],
   "source": []
  },
  {
   "cell_type": "code",
   "execution_count": null,
   "metadata": {},
   "outputs": [],
   "source": []
  },
  {
   "cell_type": "code",
   "execution_count": null,
   "metadata": {},
   "outputs": [],
   "source": []
  }
 ],
 "metadata": {
  "kernelspec": {
   "display_name": "Python 3",
   "language": "python",
   "name": "python3"
  },
  "language_info": {
   "codemirror_mode": {
    "name": "ipython",
    "version": 3
   },
   "file_extension": ".py",
   "mimetype": "text/x-python",
   "name": "python",
   "nbconvert_exporter": "python",
   "pygments_lexer": "ipython3",
   "version": "3.7.4"
  }
 },
 "nbformat": 4,
 "nbformat_minor": 2
}
