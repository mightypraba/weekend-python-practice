{
 "cells": [
  {
   "cell_type": "code",
   "execution_count": null,
   "metadata": {},
   "outputs": [],
   "source": [
    "# Collection of key value pairs\n",
    "\n",
    "# Each key is connected with a value\n",
    "\n",
    "# It's a mutable data type (add, modify and delete the values)\n",
    "\n",
    "# Flower brackets is used to indicate dictionary data type"
   ]
  },
  {
   "cell_type": "code",
   "execution_count": 6,
   "metadata": {},
   "outputs": [
    {
     "name": "stdout",
     "output_type": "stream",
     "text": [
      "{'color': 'white', 'model': 'bmw', 'wheel': 4}\n",
      "bmw\n",
      "white\n",
      "4\n"
     ]
    }
   ],
   "source": [
    "my_car = {'color':'white','model':'bmw','wheel':4}\n",
    "\n",
    "print (my_car)\n",
    "\n",
    "print (my_car['model'])\n",
    "\n",
    "print (my_car['color'])\n",
    "\n",
    "print (my_car['wheel'])"
   ]
  },
  {
   "cell_type": "code",
   "execution_count": 14,
   "metadata": {},
   "outputs": [
    {
     "name": "stdout",
     "output_type": "stream",
     "text": [
      "{'color': 'Red', 'model': 'Benz', 'amount': 4000000}\n",
      "Red\n",
      "My car is Red color\n",
      "Now My car is White color\n"
     ]
    }
   ],
   "source": [
    "# Initialize an empty dictionary\n",
    "\n",
    "my_car = {}\n",
    "\n",
    "my_car['color'] = 'Red'\n",
    "\n",
    "my_car['model'] = 'Benz'\n",
    "\n",
    "my_car['amount'] = 4000000\n",
    "\n",
    "print(my_car)\n",
    "\n",
    "print(my_car['color'])\n",
    "\n",
    "print(f\"My car is {my_car['color']} color\")\n",
    "\n",
    "my_car['color'] = 'White'\n",
    "      \n",
    "print(f\"Now My car is {my_car['color']} color\")     "
   ]
  },
  {
   "cell_type": "code",
   "execution_count": 27,
   "metadata": {},
   "outputs": [
    {
     "name": "stdout",
     "output_type": "stream",
     "text": [
      "blue\n",
      "Audi\n",
      "None\n",
      "\n",
      "\n",
      "blue\n",
      "Audi\n"
     ]
    },
    {
     "ename": "KeyError",
     "evalue": "'amount'",
     "output_type": "error",
     "traceback": [
      "\u001b[1;31m---------------------------------------------------------------------------\u001b[0m",
      "\u001b[1;31mKeyError\u001b[0m                                  Traceback (most recent call last)",
      "\u001b[1;32m<ipython-input-27-2a16ca8c7dea>\u001b[0m in \u001b[0;36m<module>\u001b[1;34m\u001b[0m\n\u001b[0;32m     17\u001b[0m \u001b[0mprint\u001b[0m\u001b[1;33m(\u001b[0m\u001b[0mmy_car\u001b[0m\u001b[1;33m[\u001b[0m\u001b[1;34m\"model\"\u001b[0m\u001b[1;33m]\u001b[0m\u001b[1;33m)\u001b[0m\u001b[1;33m\u001b[0m\u001b[1;33m\u001b[0m\u001b[0m\n\u001b[0;32m     18\u001b[0m \u001b[1;33m\u001b[0m\u001b[0m\n\u001b[1;32m---> 19\u001b[1;33m \u001b[0mprint\u001b[0m\u001b[1;33m(\u001b[0m\u001b[0mmy_car\u001b[0m\u001b[1;33m[\u001b[0m\u001b[1;34m\"amount\"\u001b[0m\u001b[1;33m]\u001b[0m\u001b[1;33m)\u001b[0m\u001b[1;33m\u001b[0m\u001b[1;33m\u001b[0m\u001b[0m\n\u001b[0m",
      "\u001b[1;31mKeyError\u001b[0m: 'amount'"
     ]
    }
   ],
   "source": [
    "# Using get method to access the values not present in the dctionaries\"\n",
    "\n",
    "my_car = {\"color\":\"blue\",\"model\":\"Audi\"} \n",
    "\n",
    "print(my_car.get(\"color\")) \n",
    "\n",
    "print(my_car.get(\"model\")) \n",
    "\n",
    "print(my_car.get(\"amount\")) \n",
    "\n",
    "\n",
    "my_car = {\"color\":\"blue\",\"model\":\"Audi\"} \n",
    "print (\"\\n\")\n",
    "\n",
    "print(my_car[\"color\"]) \n",
    "\n",
    "print(my_car[\"model\"]) \n",
    "\n",
    "print(my_car[\"amount\"]) \n"
   ]
  },
  {
   "cell_type": "code",
   "execution_count": null,
   "metadata": {},
   "outputs": [],
   "source": []
  },
  {
   "cell_type": "code",
   "execution_count": null,
   "metadata": {},
   "outputs": [],
   "source": []
  }
 ],
 "metadata": {
  "kernelspec": {
   "display_name": "Python 3",
   "language": "python",
   "name": "python3"
  },
  "language_info": {
   "codemirror_mode": {
    "name": "ipython",
    "version": 3
   },
   "file_extension": ".py",
   "mimetype": "text/x-python",
   "name": "python",
   "nbconvert_exporter": "python",
   "pygments_lexer": "ipython3",
   "version": "3.7.4"
  }
 },
 "nbformat": 4,
 "nbformat_minor": 2
}
