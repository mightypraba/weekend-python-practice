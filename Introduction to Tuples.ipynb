{
 "cells": [
  {
   "cell_type": "code",
   "execution_count": null,
   "metadata": {},
   "outputs": [],
   "source": [
    "# Introduction to Tuples\n",
    "\n",
    "1. Similar to list data types\n",
    "\n",
    "2. We cannot change the elements of a tuple once it assigned\n"
   ]
  },
  {
   "cell_type": "code",
   "execution_count": 4,
   "metadata": {},
   "outputs": [
    {
     "name": "stdout",
     "output_type": "stream",
     "text": [
      "()\n",
      "(1, 2, 3)\n",
      "(1, 'hi', 3.56)\n"
     ]
    }
   ],
   "source": [
    "# Empty Tuple\n",
    "\n",
    "my_tuple = ()\n",
    "\n",
    "print (my_tuple)\n",
    "\n",
    "my_tuple = (1,2,3)\n",
    "\n",
    "print (my_tuple)\n",
    "\n",
    "# Mixed data types in tuples\n",
    "\n",
    "my_tuple = (1,'hi',3.56)\n",
    "\n",
    "print (my_tuple)"
   ]
  },
  {
   "cell_type": "code",
   "execution_count": 5,
   "metadata": {},
   "outputs": [
    {
     "name": "stdout",
     "output_type": "stream",
     "text": [
      "10\n",
      "20\n",
      "30\n"
     ]
    }
   ],
   "source": [
    "# Looping through a tuple by using for loop\n",
    "\n",
    "dimensions1 = (10,20,30)\n",
    "\n",
    "for x in dimensions1:\n",
    "    print (x)"
   ]
  },
  {
   "cell_type": "code",
   "execution_count": 7,
   "metadata": {},
   "outputs": [
    {
     "name": "stdout",
     "output_type": "stream",
     "text": [
      "(15, 25, 36)\n"
     ]
    }
   ],
   "source": [
    "# Tuples reassignment possibilities\n",
    "\n",
    "dimensions1 = (10,20,30)\n",
    "\n",
    "dimensions1 = (15,25,36)\n",
    "\n",
    "print (dimensions1)"
   ]
  },
  {
   "cell_type": "code",
   "execution_count": 9,
   "metadata": {},
   "outputs": [
    {
     "name": "stdout",
     "output_type": "stream",
     "text": [
      "original values\n",
      "1\n",
      "2\n",
      "3\n",
      "\n",
      "Modified values\n",
      "4\n",
      "5\n",
      "6\n"
     ]
    }
   ],
   "source": [
    "triangle = (1,2,3)\n",
    "\n",
    "print ('original values')\n",
    "\n",
    "for x in triangle:\n",
    "    print (x)\n",
    "    \n",
    "triangle = (4,5,6)\n",
    "\n",
    "print ('\\nModified values')\n",
    "\n",
    "for x in triangle:\n",
    "    print (x)"
   ]
  },
  {
   "cell_type": "code",
   "execution_count": null,
   "metadata": {},
   "outputs": [],
   "source": [
    "# The Styling Guide of Python PEP8\n",
    "\n",
    "Pyhton Enhancement Proposals-8\n",
    "\n",
    "# Line length -- Should not exceed moe than 80 words\n",
    "# Maintaining blank lines\n",
    "# Indentation"
   ]
  },
  {
   "cell_type": "code",
   "execution_count": null,
   "metadata": {},
   "outputs": [],
   "source": [
    "# Introduction to if conditions\n",
    "\n",
    "# Basic Syntax\n",
    "\n",
    "if conditon:\n",
    "    do some_thing"
   ]
  },
  {
   "cell_type": "code",
   "execution_count": 25,
   "metadata": {},
   "outputs": [
    {
     "name": "stdout",
     "output_type": "stream",
     "text": [
      "BMW\n",
      "Benz\n",
      "Audi\n",
      "Lamborghini\n"
     ]
    }
   ],
   "source": [
    "# Write a program if my car is bmw then print as upper case otherwise need to change title case\n",
    "\n",
    "my_cars = ['bmw','benz','audi','lamborghini']\n",
    "\n",
    "for car in my_cars:\n",
    "    \n",
    "    if car == \"bmw\":\n",
    "        print (car.upper())\n",
    "    \n",
    "    else:\n",
    "        print (car.title())"
   ]
  },
  {
   "cell_type": "code",
   "execution_count": 29,
   "metadata": {},
   "outputs": [
    {
     "data": {
      "text/plain": [
       "False"
      ]
     },
     "execution_count": 29,
     "metadata": {},
     "output_type": "execute_result"
    }
   ],
   "source": [
    "# True or false of the statements\n",
    "\n",
    "car = 'audi'\n",
    "\n",
    "car == \"Audi\"\n",
    "\n"
   ]
  },
  {
   "cell_type": "code",
   "execution_count": 33,
   "metadata": {},
   "outputs": [
    {
     "data": {
      "text/plain": [
       "True"
      ]
     },
     "execution_count": 33,
     "metadata": {},
     "output_type": "execute_result"
    }
   ],
   "source": [
    "car = 'audi'\n",
    "\n",
    "car.title() == \"Audi\""
   ]
  },
  {
   "cell_type": "code",
   "execution_count": 39,
   "metadata": {},
   "outputs": [
    {
     "data": {
      "text/plain": [
       "True"
      ]
     },
     "execution_count": 39,
     "metadata": {},
     "output_type": "execute_result"
    }
   ],
   "source": [
    "# Checking whether a value is in the list\n",
    "\n",
    "fruits = ['apple','orange','banana','papaya']\n",
    "\n",
    "'kiwi' not in fruits"
   ]
  },
  {
   "cell_type": "code",
   "execution_count": 40,
   "metadata": {},
   "outputs": [
    {
     "data": {
      "text/plain": [
       "False"
      ]
     },
     "execution_count": 40,
     "metadata": {},
     "output_type": "execute_result"
    }
   ],
   "source": [
    "fruits = ['apple','orange','banana','papaya']\n",
    "\n",
    "'kiwi' in fruits"
   ]
  },
  {
   "cell_type": "code",
   "execution_count": 41,
   "metadata": {},
   "outputs": [
    {
     "data": {
      "text/plain": [
       "True"
      ]
     },
     "execution_count": 41,
     "metadata": {},
     "output_type": "execute_result"
    }
   ],
   "source": [
    "fruits = ['apple','orange','banana','papaya']\n",
    "\n",
    "'apple' in fruits"
   ]
  },
  {
   "cell_type": "code",
   "execution_count": 45,
   "metadata": {},
   "outputs": [
    {
     "name": "stdout",
     "output_type": "stream",
     "text": [
      "You are not eligible to vote\n"
     ]
    }
   ],
   "source": [
    "# Boolean Expressions\n",
    "\n",
    "age = 18\n",
    "\n",
    "if age >= 19:\n",
    "    print (\"You are eligible to vote\")\n",
    "else:\n",
    "    print (\"You are not eligible to vote\")"
   ]
  },
  {
   "cell_type": "code",
   "execution_count": 46,
   "metadata": {},
   "outputs": [
    {
     "name": "stdout",
     "output_type": "stream",
     "text": [
      "tell me something:hi praba\n",
      "hi praba\n"
     ]
    }
   ],
   "source": [
    "# Introduction to user inputs\n",
    "\n",
    "message = input('tell me something:')\n",
    "\n",
    "print (message)"
   ]
  },
  {
   "cell_type": "code",
   "execution_count": 51,
   "metadata": {},
   "outputs": [
    {
     "name": "stdout",
     "output_type": "stream",
     "text": [
      "How Old are you?27\n",
      "27\n"
     ]
    }
   ],
   "source": [
    "age = input('How Old are you?')\n",
    "\n",
    "print (age)"
   ]
  },
  {
   "cell_type": "code",
   "execution_count": null,
   "metadata": {},
   "outputs": [],
   "source": []
  }
 ],
 "metadata": {
  "kernelspec": {
   "display_name": "Python 3",
   "language": "python",
   "name": "python3"
  },
  "language_info": {
   "codemirror_mode": {
    "name": "ipython",
    "version": 3
   },
   "file_extension": ".py",
   "mimetype": "text/x-python",
   "name": "python",
   "nbconvert_exporter": "python",
   "pygments_lexer": "ipython3",
   "version": "3.7.4"
  }
 },
 "nbformat": 4,
 "nbformat_minor": 2
}
