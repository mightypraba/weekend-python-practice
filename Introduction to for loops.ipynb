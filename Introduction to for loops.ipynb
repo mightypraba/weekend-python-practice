{
 "cells": [
  {
   "cell_type": "code",
   "execution_count": 10,
   "metadata": {},
   "outputs": [
    {
     "name": "stdout",
     "output_type": "stream",
     "text": [
      "harry\n",
      "dumbledore\n",
      "harmonie\n",
      "anand\n",
      "Harry was a great magician\n",
      "Dumbledore was a great magician\n",
      "Harmonie was a great magician\n",
      "Anand was a great magician\n",
      "Anand was a great magician\n"
     ]
    }
   ],
   "source": [
    "#Introduction to for loops\n",
    "\n",
    "# Looping through an entire list\n",
    "\n",
    "magicians = ['harry','dumbledore','harmonie','anand']\n",
    "\n",
    "for x in magicians:\n",
    "    print (x)\n",
    "    \n",
    "\n",
    "\n",
    "magicians = ['harry','dumbledore','harmonie','anand']\n",
    "for y in magicians:\n",
    "    print (f\"{y.title()} was a great magician\")\n",
    "    \n",
    "print (f\"{y.title()} was a great magician\")"
   ]
  },
  {
   "cell_type": "code",
   "execution_count": 19,
   "metadata": {},
   "outputs": [
    {
     "name": "stdout",
     "output_type": "stream",
     "text": [
      "1\n",
      "2\n",
      "3\n",
      "4\n",
      "5\n",
      "6\n",
      "7\n"
     ]
    }
   ],
   "source": [
    "# Making numerical Lists\n",
    "\n",
    "for x in range (1,8):\n",
    "    print(x)"
   ]
  },
  {
   "cell_type": "code",
   "execution_count": 20,
   "metadata": {},
   "outputs": [
    {
     "name": "stdout",
     "output_type": "stream",
     "text": [
      "[1, 2, 3, 4, 5, 6]\n"
     ]
    }
   ],
   "source": [
    "# Using range to make a list of numbers\n",
    "\n",
    "numbers = list (range(1,7))\n",
    "print (numbers)"
   ]
  },
  {
   "cell_type": "code",
   "execution_count": 22,
   "metadata": {},
   "outputs": [
    {
     "name": "stdout",
     "output_type": "stream",
     "text": [
      "[2, 4, 6, 8, 10, 12, 14, 16, 18, 20, 22]\n"
     ]
    }
   ],
   "source": [
    "# Print the even numbers from particular orange\n",
    "\n",
    "even_numbers = list (range(2,23,2))\n",
    "print (even_numbers) "
   ]
  },
  {
   "cell_type": "code",
   "execution_count": 27,
   "metadata": {},
   "outputs": [
    {
     "data": {
      "text/plain": [
       "1"
      ]
     },
     "execution_count": 27,
     "metadata": {},
     "output_type": "execute_result"
    }
   ],
   "source": [
    "# how to perform a simple statistical operations in the list:\n",
    "\n",
    "digits = [1,2,3,4,5,6,7]\n",
    "min(digits)\n",
    "\n"
   ]
  },
  {
   "cell_type": "code",
   "execution_count": 26,
   "metadata": {},
   "outputs": [
    {
     "data": {
      "text/plain": [
       "7"
      ]
     },
     "execution_count": 26,
     "metadata": {},
     "output_type": "execute_result"
    }
   ],
   "source": [
    "digits = [1,2,3,4,5,6,7]\n",
    "max(digits)"
   ]
  },
  {
   "cell_type": "code",
   "execution_count": 28,
   "metadata": {},
   "outputs": [
    {
     "data": {
      "text/plain": [
       "28"
      ]
     },
     "execution_count": 28,
     "metadata": {},
     "output_type": "execute_result"
    }
   ],
   "source": [
    "digits = [1,2,3,4,5,6,7]\n",
    "sum(digits)"
   ]
  },
  {
   "cell_type": "code",
   "execution_count": 3,
   "metadata": {},
   "outputs": [
    {
     "name": "stdout",
     "output_type": "stream",
     "text": [
      "['Sachin', 'Ganguly', 'Kohli', 'Raina']\n",
      "['Sachin', 'Ganguly', 'Kohli']\n"
     ]
    }
   ],
   "source": [
    "# Slicing of lists:\n",
    "\n",
    "players = ['Dhoni','Yuvraj','Sachin','Ganguly','Kohli','Raina']\n",
    "\n",
    "print(players[2:6])\n",
    "\n",
    "print(players[2:5])"
   ]
  },
  {
   "cell_type": "code",
   "execution_count": null,
   "metadata": {},
   "outputs": [],
   "source": []
  },
  {
   "cell_type": "code",
   "execution_count": null,
   "metadata": {},
   "outputs": [],
   "source": []
  },
  {
   "cell_type": "code",
   "execution_count": null,
   "metadata": {},
   "outputs": [],
   "source": []
  },
  {
   "cell_type": "code",
   "execution_count": null,
   "metadata": {},
   "outputs": [],
   "source": []
  }
 ],
 "metadata": {
  "kernelspec": {
   "display_name": "Python 3",
   "language": "python",
   "name": "python3"
  },
  "language_info": {
   "codemirror_mode": {
    "name": "ipython",
    "version": 3
   },
   "file_extension": ".py",
   "mimetype": "text/x-python",
   "name": "python",
   "nbconvert_exporter": "python",
   "pygments_lexer": "ipython3",
   "version": "3.7.4"
  }
 },
 "nbformat": 4,
 "nbformat_minor": 2
}
