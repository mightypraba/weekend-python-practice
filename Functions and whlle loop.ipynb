{
 "cells": [
  {
   "cell_type": "code",
   "execution_count": null,
   "metadata": {},
   "outputs": [],
   "source": [
    "# Introduction to while loops and functions:"
   ]
  },
  {
   "cell_type": "code",
   "execution_count": 3,
   "metadata": {},
   "outputs": [
    {
     "name": "stdout",
     "output_type": "stream",
     "text": [
      "1\n",
      "2\n",
      "3\n",
      "4\n",
      "5\n",
      "6\n"
     ]
    }
   ],
   "source": [
    "number = 1\n",
    "\n",
    "while number <= 6:\n",
    "    print (number)\n",
    "    number = number + 1"
   ]
  },
  {
   "cell_type": "code",
   "execution_count": 4,
   "metadata": {},
   "outputs": [
    {
     "name": "stdout",
     "output_type": "stream",
     "text": [
      "14\n"
     ]
    }
   ],
   "source": [
    "# Functions in Python\n",
    "\n",
    "# Normal Addition\n",
    "a = 6\n",
    "\n",
    "b = 8\n",
    "\n",
    "c = a + b\n",
    "\n",
    "print (c)\n",
    "\n"
   ]
  },
  {
   "cell_type": "code",
   "execution_count": 11,
   "metadata": {},
   "outputs": [
    {
     "name": "stdout",
     "output_type": "stream",
     "text": [
      "hello\n",
      "how are you\n"
     ]
    }
   ],
   "source": [
    "# Using Function\n",
    "\n",
    "def users():\n",
    "    print (\"hello\")\n",
    "    print ('how are you')\n",
    "    \n",
    "users()"
   ]
  },
  {
   "cell_type": "code",
   "execution_count": 4,
   "metadata": {},
   "outputs": [
    {
     "name": "stdout",
     "output_type": "stream",
     "text": [
      "68\n"
     ]
    }
   ],
   "source": [
    "def add(a,b):\n",
    "    c = a + b\n",
    "    print (c)\n",
    "    \n",
    "add(4,64)"
   ]
  },
  {
   "cell_type": "code",
   "execution_count": 9,
   "metadata": {},
   "outputs": [
    {
     "name": "stdout",
     "output_type": "stream",
     "text": [
      "Hello, 34!\n",
      "Hello, Prabakaran!\n"
     ]
    }
   ],
   "source": [
    "# Function with passing arguements\n",
    "\n",
    "def greet_user(username):\n",
    "    \n",
    "    print(f\"Hello, {username}!\")\n",
    "    \n",
    "greet_user(34)\n",
    "\n",
    "\n",
    "def greet_user(username):\n",
    "    \n",
    "    print(f\"Hello, {username.title()}!\")\n",
    "    \n",
    "greet_user('prabakaran')"
   ]
  },
  {
   "cell_type": "code",
   "execution_count": null,
   "metadata": {},
   "outputs": [],
   "source": [
    "#  More information about passing arguements\n",
    "\n",
    "1. Positional Arguements\n",
    "\n",
    "2. Keyword Arguements"
   ]
  },
  {
   "cell_type": "code",
   "execution_count": 35,
   "metadata": {},
   "outputs": [
    {
     "name": "stdout",
     "output_type": "stream",
     "text": [
      "My car is Benz and model is C-CLASS\n",
      "\n",
      "\n",
      "My car is Bmw and model is c-class\n",
      "\n",
      "\n",
      "My car is Bmw and model is X-CLASS\n"
     ]
    }
   ],
   "source": [
    "# Positional Arguements\n",
    "\n",
    "def describe_car(car_name,car_model):\n",
    "    print(f\"My car is {car_name.title()} and model is {car_model.upper()}\")\n",
    "    \n",
    "describe_car(\"benz\",\"c-class\")\n",
    "\n",
    "print(\"\\n\")\n",
    "\n",
    "#Key word Arguements\n",
    "\n",
    "def describe_car(car_name,car_model):\n",
    "    print(f\"My car is {car_name.title()} and model is {car_model.lower()}\")\n",
    "    \n",
    "describe_car(car_model = \"C-CLASS\",car_name = \"BMW\")\n",
    "\n",
    "print(\"\\n\")\n",
    "\n",
    "def describe_car(car_name,car_model):\n",
    "    print(f\"My car is {car_name.title()} and model is {car_model.upper()}\")\n",
    "    \n",
    "describe_car(car_name = \"BMW\",car_model = \"X-Class\")"
   ]
  },
  {
   "cell_type": "code",
   "execution_count": null,
   "metadata": {},
   "outputs": [],
   "source": []
  },
  {
   "cell_type": "code",
   "execution_count": null,
   "metadata": {},
   "outputs": [],
   "source": []
  },
  {
   "cell_type": "code",
   "execution_count": null,
   "metadata": {},
   "outputs": [],
   "source": []
  }
 ],
 "metadata": {
  "kernelspec": {
   "display_name": "Python 3",
   "language": "python",
   "name": "python3"
  }
 },
 "nbformat": 4,
 "nbformat_minor": 2
}
