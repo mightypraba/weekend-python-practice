{
 "cells": [
  {
   "cell_type": "code",
   "execution_count": 1,
   "metadata": {},
   "outputs": [
    {
     "name": "stdout",
     "output_type": "stream",
     "text": [
      "['banana', 'papaya', 'apple', 'orange']\n"
     ]
    }
   ],
   "source": [
    "# List is an mutable data type\n",
    "\n",
    "#we can modify, append, change the values\n",
    "\n",
    "#collection of items in a particular order\n",
    "\n",
    "# Define as square brackets []\n",
    "\n",
    "# Example\n",
    "\n",
    "fruits = [\"banana\",\"papaya\",\"apple\",\"orange\"]\n",
    "\n",
    "print (fruits)"
   ]
  },
  {
   "cell_type": "code",
   "execution_count": 9,
   "metadata": {},
   "outputs": [
    {
     "name": "stdout",
     "output_type": "stream",
     "text": [
      "banana\n",
      "papaya\n",
      "Apple\n",
      "ORANGE\n"
     ]
    },
    {
     "ename": "IndexError",
     "evalue": "list index out of range",
     "output_type": "error",
     "traceback": [
      "\u001b[1;31m---------------------------------------------------------------------------\u001b[0m",
      "\u001b[1;31mIndexError\u001b[0m                                Traceback (most recent call last)",
      "\u001b[1;32m<ipython-input-9-8eee7f282b57>\u001b[0m in \u001b[0;36m<module>\u001b[1;34m\u001b[0m\n\u001b[0;32m      7\u001b[0m \u001b[0mprint\u001b[0m \u001b[1;33m(\u001b[0m\u001b[0mfruits\u001b[0m\u001b[1;33m[\u001b[0m\u001b[1;36m2\u001b[0m\u001b[1;33m]\u001b[0m\u001b[1;33m.\u001b[0m\u001b[0mtitle\u001b[0m\u001b[1;33m(\u001b[0m\u001b[1;33m)\u001b[0m\u001b[1;33m)\u001b[0m\u001b[1;33m\u001b[0m\u001b[1;33m\u001b[0m\u001b[0m\n\u001b[0;32m      8\u001b[0m \u001b[0mprint\u001b[0m \u001b[1;33m(\u001b[0m\u001b[0mfruits\u001b[0m\u001b[1;33m[\u001b[0m\u001b[1;36m3\u001b[0m\u001b[1;33m]\u001b[0m\u001b[1;33m.\u001b[0m\u001b[0mupper\u001b[0m\u001b[1;33m(\u001b[0m\u001b[1;33m)\u001b[0m\u001b[1;33m)\u001b[0m\u001b[1;33m\u001b[0m\u001b[1;33m\u001b[0m\u001b[0m\n\u001b[1;32m----> 9\u001b[1;33m \u001b[0mprint\u001b[0m \u001b[1;33m(\u001b[0m\u001b[0mfruits\u001b[0m\u001b[1;33m[\u001b[0m\u001b[1;36m4\u001b[0m\u001b[1;33m]\u001b[0m\u001b[1;33m)\u001b[0m\u001b[1;33m\u001b[0m\u001b[1;33m\u001b[0m\u001b[0m\n\u001b[0m",
      "\u001b[1;31mIndexError\u001b[0m: list index out of range"
     ]
    }
   ],
   "source": [
    "# print individual values of list data types by using indexing\n",
    "\n",
    "fruits = [\"banana\",\"PaPAya\",\"apple\",\"orange\"]\n",
    "\n",
    "print (fruits[0])\n",
    "print (fruits[1].lower())\n",
    "print (fruits[2].title())\n",
    "print (fruits[3].upper())\n",
    "print (fruits[4])"
   ]
  },
  {
   "cell_type": "code",
   "execution_count": 13,
   "metadata": {},
   "outputs": [
    {
     "name": "stdout",
     "output_type": "stream",
     "text": [
      "My most favourite fruit is APPLE\n",
      "My least favourite fruit is Papaya\n"
     ]
    }
   ],
   "source": [
    "# introducing formatted strings in list\n",
    "\n",
    "fruits = [\"banana\",\"PaPAya\",\"apple\",\"orange\"]\n",
    "\n",
    "print (f\"My most favourite fruit is {fruits[2].upper()}\")\n",
    "\n",
    "print (f\"My least favourite fruit is {fruits[1].title()}\")"
   ]
  },
  {
   "cell_type": "code",
   "execution_count": 18,
   "metadata": {},
   "outputs": [
    {
     "name": "stdout",
     "output_type": "stream",
     "text": [
      "['banana', 'PaPAya', 'apple', 'orange']\n",
      "['banana', 'Mango', 'apple', 'orange']\n",
      "['banana', 'PaPAya', 'apple', 'orange']\n",
      "['banana', 'PaPAya', 'apple', 'orange', 'kiwi']\n"
     ]
    }
   ],
   "source": [
    "# add, change, modify the elemets is list\n",
    "\n",
    "fruits = [\"banana\",\"PaPAya\",\"apple\",\"orange\"]\n",
    "print (fruits)\n",
    "\n",
    "#change the element in the list by using index position\n",
    "\n",
    "fruits[1] = \"Mango\"\n",
    "print (fruits)\n",
    "\n",
    "#add or append the element in the list\n",
    "\n",
    "fruits = [\"banana\",\"PaPAya\",\"apple\",\"orange\"]\n",
    "print (fruits)\n",
    "\n",
    "fruits.append(\"kiwi\")\n",
    "print (fruits)\n",
    "\n",
    "\n",
    "\n"
   ]
  },
  {
   "cell_type": "code",
   "execution_count": 6,
   "metadata": {},
   "outputs": [
    {
     "name": "stdout",
     "output_type": "stream",
     "text": [
      "['banana', 'PaPAya', 'apple', 'orange']\n",
      "['banana', 'PaPAya', 'kiwi', 'apple', 'orange']\n"
     ]
    }
   ],
   "source": [
    "# Adding the elements without deleting the elements present in the list by using index\n",
    "\n",
    "fruits = [\"banana\",\"PaPAya\",\"apple\",\"orange\"]\n",
    "print (fruits)\n",
    "fruits.insert(2,\"kiwi\")\n",
    "\n",
    "print (fruits)"
   ]
  },
  {
   "cell_type": "code",
   "execution_count": 11,
   "metadata": {},
   "outputs": [
    {
     "name": "stdout",
     "output_type": "stream",
     "text": [
      "[]\n",
      "['BMW', 'Audi', 'Benz', 'Skoda']\n",
      "BMW\n"
     ]
    }
   ],
   "source": [
    "# creating an empty list\n",
    "\n",
    "cars = []\n",
    "print(cars)\n",
    "\n",
    "cars.append('BMW')\n",
    "cars.append('Audi')\n",
    "cars.append('Benz')\n",
    "cars.append('Skoda')\n",
    "print(cars)\n",
    "\n",
    "print(cars[0])"
   ]
  },
  {
   "cell_type": "code",
   "execution_count": 20,
   "metadata": {},
   "outputs": [
    {
     "name": "stdout",
     "output_type": "stream",
     "text": [
      "['BMW', 'Audi', 'Benz', 'Skoda']\n",
      "['Audi', 'Benz', 'Skoda']\n",
      "['BMW', 'Audi', 'Benz']\n",
      "['BMW', 'Benz', 'Skoda']\n"
     ]
    }
   ],
   "source": [
    "# Deleting the elements in the list\n",
    "\n",
    "cars = ['BMW', 'Audi', 'Benz', 'Skoda']\n",
    "print(cars)\n",
    "\n",
    "del cars[0]\n",
    "print(cars)\n",
    "\n",
    "# delete the element in the list (last element by using pop() method)\n",
    "\n",
    "cars = ['BMW', 'Audi', 'Benz', 'Skoda']\n",
    "cars.pop()\n",
    "print(cars)\n",
    "\n",
    "\n",
    "cars = ['BMW', 'Audi', 'Benz', 'Skoda']\n",
    "cars.pop(1)\n",
    "print(cars)"
   ]
  },
  {
   "cell_type": "code",
   "execution_count": 34,
   "metadata": {},
   "outputs": [
    {
     "name": "stdout",
     "output_type": "stream",
     "text": [
      "['audi', 'benz', 'bmw', 'skoda']\n",
      "['apple', 'banana', 'orange', 'paPAya']\n",
      "['orange', 'apple', 'papaya', 'banana']\n"
     ]
    },
    {
     "data": {
      "text/plain": [
       "4"
      ]
     },
     "execution_count": 34,
     "metadata": {},
     "output_type": "execute_result"
    }
   ],
   "source": [
    "# Sorting the elements in the list\n",
    "cars = ['bmw', 'audi', 'benz', 'skoda']\n",
    "cars.sort()\n",
    "print(cars)\n",
    "\n",
    "\n",
    "fruits = [\"banana\",\"paPAya\",\"apple\",\"orange\"]\n",
    "fruits.sort()\n",
    "print(fruits)\n",
    "\n",
    "# Sorting the elements in the reverse order\n",
    "\n",
    "fruits = [\"banana\",\"papaya\",\"apple\",\"orange\"]\n",
    "fruits.reverse()\n",
    "print(fruits)\n",
    "\n",
    "#count the number of list present in the list\n",
    "\n",
    "fruits = [\"banana\",\"papaya\",\"apple\",\"orange\"]\n",
    "\n",
    "len(fruits)"
   ]
  },
  {
   "cell_type": "code",
   "execution_count": null,
   "metadata": {},
   "outputs": [],
   "source": []
  },
  {
   "cell_type": "code",
   "execution_count": null,
   "metadata": {},
   "outputs": [],
   "source": []
  },
  {
   "cell_type": "code",
   "execution_count": null,
   "metadata": {},
   "outputs": [],
   "source": []
  },
  {
   "cell_type": "code",
   "execution_count": null,
   "metadata": {},
   "outputs": [],
   "source": []
  },
  {
   "cell_type": "code",
   "execution_count": null,
   "metadata": {},
   "outputs": [],
   "source": []
  },
  {
   "cell_type": "code",
   "execution_count": null,
   "metadata": {},
   "outputs": [],
   "source": []
  },
  {
   "cell_type": "code",
   "execution_count": null,
   "metadata": {},
   "outputs": [],
   "source": []
  },
  {
   "cell_type": "code",
   "execution_count": null,
   "metadata": {},
   "outputs": [],
   "source": []
  }
 ],
 "metadata": {
  "kernelspec": {
   "display_name": "Python 3",
   "language": "python",
   "name": "python3"
  },
  "language_info": {
   "codemirror_mode": {
    "name": "ipython",
    "version": 3
   },
   "file_extension": ".py",
   "mimetype": "text/x-python",
   "name": "python",
   "nbconvert_exporter": "python",
   "pygments_lexer": "ipython3",
   "version": "3.7.4"
  }
 },
 "nbformat": 4,
 "nbformat_minor": 2
}
